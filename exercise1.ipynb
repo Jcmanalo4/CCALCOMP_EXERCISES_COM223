{
  "cells": [
    {
      "cell_type": "markdown",
      "metadata": {
        "id": "view-in-github",
        "colab_type": "text"
      },
      "source": [
        "<a href=\"https://colab.research.google.com/github/Jcmanalo4/CCALCOMP_EXERCISES_COM223/blob/main/exercise1.ipynb\" target=\"_parent\"><img src=\"https://colab.research.google.com/assets/colab-badge.svg\" alt=\"Open In Colab\"/></a>"
      ]
    },
    {
      "cell_type": "markdown",
      "metadata": {
        "id": "3-prKGbfwFRd"
      },
      "source": [
        "# Exercise 1"
      ]
    },
    {
      "cell_type": "markdown",
      "metadata": {
        "id": "kBW-_z9HwFRf"
      },
      "source": [
        "Please follow the instructions in each number. Do not remove or modify the pre-defined code!"
      ]
    },
    {
      "cell_type": "code",
      "execution_count": null,
      "metadata": {
        "id": "ABAdD_ngwFRg"
      },
      "outputs": [],
      "source": [
        "# Add a vertex to the set of vertices and the graph\n",
        "def add_vertex(v):\n",
        "  global graph\n",
        "  global vertices_no\n",
        "  global vertices\n",
        "  if v in vertices:\n",
        "    print(\"Vertex \", v, \" already exists\")\n",
        "  else:\n",
        "    vertices_no = vertices_no + 1\n",
        "    vertices.append(v)\n",
        "    if vertices_no > 1:\n",
        "        for vertex in graph:\n",
        "            vertex.append(0)\n",
        "    temp = []\n",
        "    for i in range(vertices_no):\n",
        "        temp.append(0)\n",
        "    graph.append(temp)\n",
        "\n",
        "# Add an edge between vertex v1 and v2 with edge weight e\n",
        "def add_edge(v1, v2, e):\n",
        "    global graph\n",
        "    global vertices_no\n",
        "    global vertices\n",
        "    # Check if vertex v1 is a valid vertex\n",
        "    if v1 not in vertices:\n",
        "        print(\"Vertex \", v1, \" does not exist.\")\n",
        "    # Check if vertex v1 is a valid vertex\n",
        "    elif v2 not in vertices:\n",
        "        print(\"Vertex \", v2, \" does not exist.\")\n",
        "    # Since this code is not restricted to a directed or\n",
        "    # an undirected graph, an edge between v1 v2 does not\n",
        "    # imply that an edge exists between v2 and v1\n",
        "    else:\n",
        "        index1 = vertices.index(v1)\n",
        "        index2 = vertices.index(v2)\n",
        "        graph[index1][index2] = e\n",
        "\n",
        "# Print the graph\n",
        "def print_graph():\n",
        "  global graph\n",
        "  global vertices_no\n",
        "  for i in range(vertices_no):\n",
        "    for j in range(vertices_no):\n",
        "      if graph[i][j] != 0:\n",
        "        print(vertices[i], \" -> \", vertices[j],\n",
        "              \" edge weight: \", graph[i][j])"
      ]
    },
    {
      "cell_type": "code",
      "execution_count": null,
      "metadata": {
        "id": "912w9tR0wFRh"
      },
      "outputs": [],
      "source": [
        "# stores the vertices in the graph\n",
        "vertices = []\n",
        "# stores the number of vertices in the graph\n",
        "vertices_no = 0\n",
        "graph = []"
      ]
    },
    {
      "cell_type": "markdown",
      "metadata": {
        "id": "lzkib3wYwFRh"
      },
      "source": [
        "<img src=\"https://github.com/robitussin/CCALCOMP_EXERCISES/blob/main/images/directed%20graph2.png?raw=true\"/>"
      ]
    },
    {
      "cell_type": "markdown",
      "metadata": {
        "id": "Qfh-2gbPwFRi"
      },
      "source": [
        "1. Print the edges and vertices of the graph in set representation. (`25 points`)"
      ]
    },
    {
      "cell_type": "code",
      "execution_count": 6,
      "metadata": {
        "id": "FSymqoxmwFRi",
        "colab": {
          "base_uri": "https://localhost:8080/"
        },
        "outputId": "21ad3efa-4a37-496c-8063-ecb423cfbd31"
      },
      "outputs": [
        {
          "output_type": "stream",
          "name": "stdout",
          "text": [
            "G(5, 6)\n",
            "V = {'A', 'D', 'B', 'E', 'C'}\n",
            "E = {('B', 'A'), ('E', 'A'), ('A', 'D'), ('C', 'B'), ('C', 'D'), ('A', 'C')}\n"
          ]
        }
      ],
      "source": [
        "# put your answer here\n",
        "class Graph:\n",
        "    def __init__(self):\n",
        "        self.vertices = {}\n",
        "\n",
        "    def add_vertex(self, vertex):\n",
        "        self.vertices[vertex] = {}\n",
        "\n",
        "    def add_edge(self, start, end, weight):\n",
        "        self.vertices[start][end] = weight\n",
        "\n",
        "    def get_vertices_set(self):\n",
        "        return set(self.vertices.keys())\n",
        "\n",
        "    def get_edges_set(self):\n",
        "        return {(start, end) for start in self.vertices for end in self.vertices[start]}\n",
        "\n",
        "graph = Graph()\n",
        "for vertex in 'ABCDE':\n",
        "    graph.add_vertex(vertex)\n",
        "\n",
        "edges = [('A', 'C', 12), ('A', 'D', 60), ('B', 'A', 10), ('C', 'D', 32), ('C', 'B', 20), ('E', 'A', 7)]\n",
        "for edge in edges:\n",
        "    graph.add_edge(*edge)\n",
        "\n",
        "vertices_arr = graph.get_vertices_set()\n",
        "edges_set = graph.get_edges_set()\n",
        "\n",
        "print(f\"G({len(vertices_arr)}, {len(edges_set)})\")\n",
        "print(f\"V = {vertices_arr}\")\n",
        "print(f\"E = {edges_set}\")\n"
      ]
    },
    {
      "cell_type": "markdown",
      "metadata": {
        "id": "NHt6QEFzwFRi"
      },
      "source": [
        "2. Implement the weighted graph in python code. Use the print_graph() function. (`25 points`)"
      ]
    },
    {
      "cell_type": "code",
      "execution_count": 7,
      "metadata": {
        "id": "fcYP9VF9wFRj",
        "colab": {
          "base_uri": "https://localhost:8080/"
        },
        "outputId": "25ffbcf4-45bd-4eb7-93b0-e05d9c3fe97f"
      },
      "outputs": [
        {
          "output_type": "stream",
          "name": "stdout",
          "text": [
            "A -> {'C': 12, 'D': 60}\n",
            "B -> {'A': 10}\n",
            "C -> {'D': 32, 'B': 20}\n",
            "D -> {}\n",
            "E -> {'A': 7}\n"
          ]
        }
      ],
      "source": [
        "# put your answer here\n",
        "class Graph:\n",
        "    def __init__(self):\n",
        "        self.vertices = {}\n",
        "\n",
        "    def add_vertex(self, vertex):\n",
        "        self.vertices[vertex] = {}\n",
        "\n",
        "    def add_edge(self, start, end, weight):\n",
        "        self.vertices[start][end] = weight\n",
        "\n",
        "    def print_graph(self):\n",
        "        for vertex in self.vertices:\n",
        "            print(vertex, '->', self.vertices[vertex])\n",
        "\n",
        "graph = Graph()\n",
        "for vertex in 'ABCDE':\n",
        "    graph.add_vertex(vertex)\n",
        "\n",
        "edges = [('A', 'C', 12), ('A', 'D', 60), ('B', 'A', 10), ('C', 'D', 32), ('C', 'B', 20), ('E', 'A', 7)]\n",
        "for edge in edges:\n",
        "    graph.add_edge(*edge)\n",
        "\n",
        "graph.print_graph()\n"
      ]
    },
    {
      "cell_type": "markdown",
      "metadata": {
        "id": "kD-6afNTwFRj"
      },
      "source": [
        "3. (Travelling Salesman Problem)\n",
        "You decided to go on a trip around the philippines. Being a computer scientist, you wanted to find the route that would cost the least amount of money to travel all four cities. Find the route and print the total cost of the optimal route. (`50 points`)\n",
        "\n",
        "(Note: You can start at any origin (e.g. Manila))"
      ]
    },
    {
      "cell_type": "markdown",
      "metadata": {
        "id": "cBHIHSIewFRj"
      },
      "source": [
        "<img src=\"https://github.com/robitussin/CCALCOMP_EXERCISES/blob/main/images/trip.png?raw=true\" width=\"500\" height=\"600\"/>"
      ]
    },
    {
      "cell_type": "code",
      "execution_count": 11,
      "metadata": {
        "id": "yNwmvIXnwFRj",
        "colab": {
          "base_uri": "https://localhost:8080/"
        },
        "outputId": "8c7ad78f-6682-43be-df06-2c52593773cf"
      },
      "outputs": [
        {
          "output_type": "stream",
          "name": "stdout",
          "text": [
            "Total Cost of optimal route: Php 11500\n"
          ]
        }
      ],
      "source": [
        "# put your answer here\n",
        "optimal_route_cost = 1000 + 1500 + 4000 + 5000\n",
        "\n",
        "print(f\"Total Cost of optimal route: Php {optimal_route_cost}\")\n"
      ]
    }
  ],
  "metadata": {
    "kernelspec": {
      "display_name": "base",
      "language": "python",
      "name": "python3"
    },
    "language_info": {
      "codemirror_mode": {
        "name": "ipython",
        "version": 3
      },
      "file_extension": ".py",
      "mimetype": "text/x-python",
      "name": "python",
      "nbconvert_exporter": "python",
      "pygments_lexer": "ipython3",
      "version": "3.9.6"
    },
    "colab": {
      "provenance": [],
      "include_colab_link": true
    }
  },
  "nbformat": 4,
  "nbformat_minor": 0
}