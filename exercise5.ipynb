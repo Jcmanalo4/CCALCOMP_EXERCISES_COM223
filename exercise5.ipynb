{
  "cells": [
    {
      "cell_type": "markdown",
      "metadata": {
        "id": "view-in-github",
        "colab_type": "text"
      },
      "source": [
        "<a href=\"https://colab.research.google.com/github/Jcmanalo4/CCALCOMP_EXERCISES_COM223/blob/main/exercise5.ipynb\" target=\"_parent\"><img src=\"https://colab.research.google.com/assets/colab-badge.svg\" alt=\"Open In Colab\"/></a>"
      ]
    },
    {
      "cell_type": "markdown",
      "metadata": {
        "id": "-8bYOEC8HOQ4"
      },
      "source": [
        "# Exercise 5\n",
        "\n",
        "Please follow the instructions in each number."
      ]
    },
    {
      "cell_type": "markdown",
      "metadata": {
        "id": "FEPXLUAPHOQ6"
      },
      "source": [
        "### Maximum Subarray\n",
        "Given an array of integers nums, find the subarray with the largest sum and return the sum.\n",
        "\n",
        "A subarray is a contiguous non-empty sequence of elements within an array.\n",
        "\n",
        "\n",
        "\n",
        "Example 1:\n",
        "\n",
        "Input: nums = [2,-3,4,-2,2,1,-1,4]\n",
        "\n",
        "Output: 8\n",
        "\n",
        "Explanation: The subarray [4,-2,2,1,-1,4] has the largest sum 8."
      ]
    },
    {
      "cell_type": "markdown",
      "metadata": {
        "id": "D4a-4yS4HOQ7"
      },
      "source": [
        "## Tasks"
      ]
    },
    {
      "cell_type": "markdown",
      "metadata": {
        "id": "v8mlE6kYHOQ7"
      },
      "source": [
        "1. Put your student number in a list and manually compute the maximum subarray in your student number (`10 points`)"
      ]
    },
    {
      "cell_type": "code",
      "execution_count": 11,
      "metadata": {
        "vscode": {
          "languageId": "plaintext"
        },
        "id": "YJMIVpuTHOQ8",
        "outputId": "17f75054-1937-4019-a934-ab1129a111a3",
        "colab": {
          "base_uri": "https://localhost:8080/"
        }
      },
      "outputs": [
        {
          "output_type": "stream",
          "name": "stdout",
          "text": [
            "Maximum subarray: [2, 0, 2, 1, 1, 0, 2, 2, 5, 6]\n",
            "Maximum subarray sum: 21\n"
          ]
        }
      ],
      "source": [
        "# put your answer here\n",
        "def max_subarray_brute_force(nums):\n",
        "    max_sum = float('-inf')\n",
        "    subarray = []\n",
        "    n = len(nums)\n",
        "\n",
        "    for i in range(n):\n",
        "        current_sum = 0\n",
        "        for j in range(i, n):\n",
        "            current_sum += nums[j]\n",
        "            if current_sum > max_sum:\n",
        "                max_sum = current_sum\n",
        "                subarray = nums[i:j+1]\n",
        "\n",
        "    return subarray, max_sum\n",
        "\n",
        "# Student number as a list of integers\n",
        "student_number = [2, 0, 2, 1, 1, 0, 2, 2, 5, 6]\n",
        "\n",
        "# Find maximum subarray\n",
        "subarray, max_sum = max_subarray_brute_force(student_number)\n",
        "print(\"Maximum subarray:\", subarray)\n",
        "print(\"Maximum subarray sum:\", max_sum)\n"
      ]
    },
    {
      "cell_type": "markdown",
      "metadata": {
        "id": "nchQgI2KHOQ8"
      },
      "source": [
        "2. Write a program using a brute-force approach to get the maximum-subarray of your student number (`40 points`)"
      ]
    },
    {
      "cell_type": "code",
      "execution_count": 9,
      "metadata": {
        "vscode": {
          "languageId": "plaintext"
        },
        "id": "b9P6oe11HOQ9",
        "outputId": "ed8b1c5b-dde4-434f-d3ed-fa6633eea6de",
        "colab": {
          "base_uri": "https://localhost:8080/"
        }
      },
      "outputs": [
        {
          "output_type": "stream",
          "name": "stdout",
          "text": [
            "Maximum subarray: [2, 0, 2, 1, 1, 0, 2, 2, 5, 6]\n",
            "Maximum sum: 21\n"
          ]
        }
      ],
      "source": [
        "# put your answer here\n",
        "def max_subarray_brute_force(nums):\n",
        "    n = len(nums)\n",
        "    max_sum = float('-inf')\n",
        "    subarray = []\n",
        "\n",
        "    for i in range(n):\n",
        "        for j in range(i, n):\n",
        "            current_sum = sum(nums[i:j+1])\n",
        "            if current_sum > max_sum:\n",
        "                max_sum = current_sum\n",
        "                subarray = nums[i:j+1]\n",
        "\n",
        "    return subarray, max_sum\n",
        "\n",
        "student_number = [2, 0, 2, 1, 1, 0, 2, 2, 5, 6]\n",
        "subarray, max_sum = max_subarray_brute_force(student_number)\n",
        "print(\"Maximum subarray:\", subarray)\n",
        "print(\"Maximum sum:\", max_sum)\n"
      ]
    },
    {
      "cell_type": "markdown",
      "metadata": {
        "id": "NkqAxIx_HOQ9"
      },
      "source": [
        "3. Write a program using a dynamic programming to get the maximum-subarray of your student number (`50 points`)"
      ]
    },
    {
      "cell_type": "code",
      "execution_count": 8,
      "metadata": {
        "vscode": {
          "languageId": "plaintext"
        },
        "id": "BFBp2ARLHOQ9",
        "outputId": "a11e9518-2559-42f0-8f99-4262a33d1b6f",
        "colab": {
          "base_uri": "https://localhost:8080/"
        }
      },
      "outputs": [
        {
          "output_type": "stream",
          "name": "stdout",
          "text": [
            "Maximum subarray sum (dynamic programming): 21\n"
          ]
        }
      ],
      "source": [
        "# put your answer here\n",
        "def max_subarray_dynamic(nums):\n",
        "    max_sum = current_sum = nums[0]\n",
        "\n",
        "    for i in range(1, len(nums)):\n",
        "        current_sum = max(nums[i], current_sum + nums[i])\n",
        "        if current_sum > max_sum:\n",
        "            max_sum = current_sum\n",
        "\n",
        "    return max_sum\n",
        "\n",
        "# Convert student number into a list of integers\n",
        "student_number = [2, 0, 2, 1, 1, 0, 2, 2, 5, 6]\n",
        "\n",
        "max_sum = max_subarray_dynamic(student_number)\n",
        "print(\"Maximum subarray sum (dynamic programming):\", max_sum)\n"
      ]
    }
  ],
  "metadata": {
    "colab": {
      "provenance": [],
      "include_colab_link": true
    },
    "kernelspec": {
      "display_name": "base",
      "language": "python",
      "name": "python3"
    },
    "language_info": {
      "codemirror_mode": {
        "name": "ipython",
        "version": 3
      },
      "file_extension": ".py",
      "mimetype": "text/x-python",
      "name": "python",
      "nbconvert_exporter": "python",
      "pygments_lexer": "ipython3",
      "version": "3.9.6"
    }
  },
  "nbformat": 4,
  "nbformat_minor": 0
}